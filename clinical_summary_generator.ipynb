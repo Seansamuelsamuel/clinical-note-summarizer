{
 "cells": [
  {
   "cell_type": "markdown",
   "id": "724b5065",
   "metadata": {},
   "source": [
    "# 🩺 Clinical Note Generator using FLAN‑T5"
   ]
  },
  {
   "cell_type": "code",
   "execution_count": null,
   "id": "f223f8a5",
   "metadata": {},
   "outputs": [],
   "source": [
    "# Install required libraries (this will take a bit)\n",
    "!pip install transformers datasets evaluate rouge-score --quiet\n"
   ]
  },
  {
   "cell_type": "code",
   "execution_count": null,
   "id": "9facbb73",
   "metadata": {},
   "outputs": [],
   "source": [
    "# importing all the stuff i need here\n",
    "import pandas as pd\n",
    "import numpy as np\n",
    "from datasets import Dataset, load_metric\n",
    "from transformers import AutoTokenizer, AutoModelForSeq2SeqLM, TrainingArguments, Trainer, DataCollatorForSeq2Seq\n",
    "import evaluate\n",
    "import torch\n"
   ]
  },
  {
   "cell_type": "code",
   "execution_count": null,
   "id": "96e43800",
   "metadata": {},
   "outputs": [],
   "source": [
    "# Load main + augmented MTS data (dialogue + summary)\n",
    "import os\n",
    "from pathlib import Path\n",
    "\n",
    "base_path = Path(\"/mnt/data/clinical-note-summarizer/MTS-Dialog-main\")\n",
    "csv_paths = list(base_path.rglob(\"*.csv\"))\n",
    "\n",
    "df_list = []\n",
    "for path in csv_paths:\n",
    "    try:\n",
    "        df = pd.read_csv(path)\n",
    "        if 'dialogue' in df.columns and 'summary' in df.columns:\n",
    "            df = df[['dialogue', 'summary']].dropna()\n",
    "            df_list.append(df)\n",
    "    except:\n",
    "        pass\n",
    "\n",
    "df = pd.concat(df_list, ignore_index=True)\n",
    "df = df.dropna().reset_index(drop=True)\n",
    "df.head()\n"
   ]
  },
  {
   "cell_type": "code",
   "execution_count": null,
   "id": "73526201",
   "metadata": {},
   "outputs": [],
   "source": [
    "# Formatting for flan-t5 input\n",
    "def preprocess_function(example):\n",
    "    return {\n",
    "        \"input_text\": \"summarize: \" + example[\"dialogue\"],\n",
    "        \"target_text\": example[\"summary\"]\n",
    "    }\n",
    "\n",
    "dataset = Dataset.from_pandas(df)\n",
    "dataset = dataset.train_test_split(test_size=0.1)\n",
    "dataset = dataset.map(preprocess_function)\n"
   ]
  },
  {
   "cell_type": "code",
   "execution_count": null,
   "id": "411f4856",
   "metadata": {},
   "outputs": [],
   "source": [
    "model_name = \"google/flan-t5-small\"\n",
    "tokenizer = AutoTokenizer.from_pretrained(model_name)\n",
    "\n",
    "max_input = 512\n",
    "max_target = 128\n",
    "\n",
    "def tokenize_function(example):\n",
    "    model_inputs = tokenizer(\n",
    "        example[\"input_text\"], max_length=max_input, padding=\"max_length\", truncation=True\n",
    "    )\n",
    "    labels = tokenizer(\n",
    "        example[\"target_text\"], max_length=max_target, padding=\"max_length\", truncation=True\n",
    "    ).input_ids\n",
    "    model_inputs[\"labels\"] = labels\n",
    "    return model_inputs\n",
    "\n",
    "tokenized_dataset = dataset.map(tokenize_function, batched=True)\n"
   ]
  },
  {
   "cell_type": "code",
   "execution_count": null,
   "id": "a65744f5",
   "metadata": {},
   "outputs": [],
   "source": [
    "model = AutoModelForSeq2SeqLM.from_pretrained(model_name)\n",
    "\n",
    "training_args = TrainingArguments(\n",
    "    output_dir=\"./results\",\n",
    "    evaluation_strategy=\"epoch\",\n",
    "    learning_rate=2e-5,\n",
    "    per_device_train_batch_size=4,\n",
    "    per_device_eval_batch_size=4,\n",
    "    num_train_epochs=2,\n",
    "    weight_decay=0.01,\n",
    "    logging_dir=\"./logs\",\n",
    "    logging_steps=10,\n",
    "    save_strategy=\"no\"\n",
    ")\n",
    "\n",
    "data_collator = DataCollatorForSeq2Seq(tokenizer=tokenizer, model=model)\n"
   ]
  },
  {
   "cell_type": "code",
   "execution_count": null,
   "id": "46f11ad4",
   "metadata": {},
   "outputs": [],
   "source": [
    "trainer = Trainer(\n",
    "    model=model,\n",
    "    args=training_args,\n",
    "    train_dataset=tokenized_dataset[\"train\"],\n",
    "    eval_dataset=tokenized_dataset[\"test\"],\n",
    "    tokenizer=tokenizer,\n",
    "    data_collator=data_collator\n",
    ")\n",
    "\n",
    "# trainin now (takes some time on full data)\n",
    "trainer.train()\n"
   ]
  },
  {
   "cell_type": "code",
   "execution_count": null,
   "id": "a16c01c2",
   "metadata": {},
   "outputs": [],
   "source": [
    "rouge = evaluate.load(\"rouge\")\n",
    "\n",
    "def generate_summary(example):\n",
    "    inputs = tokenizer(\"summarize: \" + example[\"dialogue\"], return_tensors=\"pt\", truncation=True)\n",
    "    output = model.generate(**inputs, max_new_tokens=128)\n",
    "    return tokenizer.decode(output[0], skip_special_tokens=True)\n",
    "\n",
    "preds = [generate_summary(x) for x in df.sample(20).to_dict(orient=\"records\")]\n",
    "refs = df.sample(20)[\"summary\"].tolist()\n",
    "\n",
    "results = rouge.compute(predictions=preds, references=refs)\n",
    "print(\"ROUGE-1:\", results[\"rouge1\"])\n",
    "print(\"ROUGE-L:\", results[\"rougeL\"])\n"
   ]
  },
  {
   "cell_type": "code",
   "execution_count": null,
   "id": "1c52dbc5",
   "metadata": {},
   "outputs": [],
   "source": [
    "# try your own dialogue below 👇\n",
    "your_input = \"\"\"Doctor: Hello, what brings you in today?\n",
    "Patient: I’ve been coughing for a few days, and my chest hurts when I breathe deeply.\"\"\"\n",
    "\n",
    "inputs = tokenizer(\"summarize: \" + your_input, return_tensors=\"pt\", truncation=True)\n",
    "output = model.generate(**inputs, max_new_tokens=100)\n",
    "print(\"Generated summary:\", tokenizer.decode(output[0], skip_special_tokens=True))\n"
   ]
  }
 ],
 "metadata": {},
 "nbformat": 4,
 "nbformat_minor": 5
}